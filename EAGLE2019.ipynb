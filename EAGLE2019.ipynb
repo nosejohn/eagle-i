{
  "nbformat": 4,
  "nbformat_minor": 0,
  "metadata": {
    "colab": {
      "provenance": [],
      "machine_shape": "hm",
      "gpuType": "A100",
      "authorship_tag": "ABX9TyMf60huWN2KUS+GABHHHn0U",
      "include_colab_link": true
    },
    "kernelspec": {
      "name": "python3",
      "display_name": "Python 3"
    },
    "language_info": {
      "name": "python"
    },
    "accelerator": "GPU"
  },
  "cells": [
    {
      "cell_type": "markdown",
      "metadata": {
        "id": "view-in-github",
        "colab_type": "text"
      },
      "source": [
        "<a href=\"https://colab.research.google.com/github/nosejohn/eagle-i/blob/main/EAGLE2019.ipynb\" target=\"_parent\"><img src=\"https://colab.research.google.com/assets/colab-badge.svg\" alt=\"Open In Colab\"/></a>"
      ]
    },
    {
      "cell_type": "code",
      "execution_count": 7,
      "metadata": {
        "id": "Y5uSTJd2wNyK"
      },
      "outputs": [],
      "source": [
        "# importing necessary datasets\n",
        "import pandas as pd\n",
        "eagle2019 = pd.read_csv('eaglei_outages_2019.csv', index_col = False)\n",
        "\n",
        "# Convert run_start_time to datetime\n",
        "eagle2019['run_start_time'] = pd.to_datetime(eagle2019['run_start_time'])\n",
        "\n",
        "# Sort the data\n",
        "eagle2019.sort_values(by=['fips_code', 'run_start_time'], inplace=True)\n",
        "eagle2019.head()\n",
        "\n",
        "def process_group(group):\n",
        "    # Ensure 'run_start_time' is in datetime format\n",
        "    group['run_start_time'] = pd.to_datetime(group['run_start_time'])\n",
        "\n",
        "    # Calculate time differences between consecutive rows in minutes\n",
        "    group['time_diff'] = group['run_start_time'].diff().dt.total_seconds() / 60.0\n",
        "\n",
        "    # Mark rows as new outage based on time difference and sum change\n",
        "    group['new_outage'] = (group['time_diff'] > 16) | (group['sum'] != group['sum'].shift()) | group['time_diff'].isnull()\n",
        "    group['outage_id'] = group['fips_code'].astype(str) + '_' + group['new_outage'].cumsum().astype(str)\n",
        "\n",
        "    # Determine start and end times for each outage\n",
        "    group['start_time'] = group.groupby('outage_id')['run_start_time'].transform('first')\n",
        "    group['end_time'] = group.groupby('outage_id')['run_start_time'].transform('last')\n",
        "\n",
        "    return group[['fips_code', 'county', 'state', 'sum', 'start_time', 'end_time']]\n"
      ]
    },
    {
      "cell_type": "code",
      "source": [
        "import re\n",
        "\n",
        "date_pattern = re.compile(r\"\\d{4}-\\d{2}-\\d{2}\")\n",
        "\n",
        "# Find rows with invalid 'run_start_time' formats\n",
        "invalid_dates = eagle2019[~eagle2019['run_start_time'].astype(str).str.match(date_pattern)]\n",
        "\n",
        "# Inspect invalid dates to decide on correction\n",
        "print(invalid_dates)"
      ],
      "metadata": {
        "colab": {
          "base_uri": "https://localhost:8080/"
        },
        "id": "0F60xBvA3S3f",
        "outputId": "e88fe4a6-5038-4192-c295-31b2b2b3ab97"
      },
      "execution_count": 3,
      "outputs": [
        {
          "output_type": "stream",
          "name": "stdout",
          "text": [
            "          fips_code  county     state   sum run_start_time\n",
            "13110790      17133  Monroe  Illinois  14.0             20\n"
          ]
        }
      ]
    },
    {
      "cell_type": "code",
      "source": [
        "print(eagle2019[(eagle2019['county'] == 'Monroe') & (eagle2019['state'] == 'Illinois') & (eagle2019['sum'] == 14)])"
      ],
      "metadata": {
        "colab": {
          "base_uri": "https://localhost:8080/"
        },
        "id": "hUTonGOe3ih-",
        "outputId": "c507a43c-0fa8-4595-bb46-5c7d3f50db2c"
      },
      "execution_count": 8,
      "outputs": [
        {
          "output_type": "stream",
          "name": "stdout",
          "text": [
            "          fips_code  county     state   sum      run_start_time\n",
            "3251849       17133  Monroe  Illinois  14.0 2019-02-26 23:45:00\n",
            "3252681       17133  Monroe  Illinois  14.0 2019-02-27 00:00:00\n",
            "8648803       17133  Monroe  Illinois  14.0 2019-05-23 12:00:00\n",
            "8649553       17133  Monroe  Illinois  14.0 2019-05-23 12:15:00\n",
            "8650328       17133  Monroe  Illinois  14.0 2019-05-23 12:30:00\n",
            "8651171       17133  Monroe  Illinois  14.0 2019-05-23 12:45:00\n",
            "8652067       17133  Monroe  Illinois  14.0 2019-05-23 13:00:00\n",
            "8653002       17133  Monroe  Illinois  14.0 2019-05-23 13:15:00\n",
            "8653982       17133  Monroe  Illinois  14.0 2019-05-23 13:30:00\n",
            "8655036       17133  Monroe  Illinois  14.0 2019-05-23 13:45:00\n",
            "8656132       17133  Monroe  Illinois  14.0 2019-05-23 14:00:00\n",
            "8657274       17133  Monroe  Illinois  14.0 2019-05-23 14:15:00\n",
            "8658437       17133  Monroe  Illinois  14.0 2019-05-23 14:30:00\n",
            "8659610       17133  Monroe  Illinois  14.0 2019-05-23 14:45:00\n",
            "8660799       17133  Monroe  Illinois  14.0 2019-05-23 15:00:00\n",
            "8662014       17133  Monroe  Illinois  14.0 2019-05-23 15:15:00\n",
            "8663245       17133  Monroe  Illinois  14.0 2019-05-23 15:30:00\n",
            "8664432       17133  Monroe  Illinois  14.0 2019-05-23 15:45:00\n",
            "8665621       17133  Monroe  Illinois  14.0 2019-05-23 16:00:00\n",
            "8666814       17133  Monroe  Illinois  14.0 2019-05-23 16:15:00\n",
            "13102526      17133  Monroe  Illinois  14.0 2019-07-16 19:15:00\n",
            "13103731      17133  Monroe  Illinois  14.0 2019-07-16 19:30:00\n",
            "13104939      17133  Monroe  Illinois  14.0 2019-07-16 19:45:00\n",
            "13106129      17133  Monroe  Illinois  14.0 2019-07-16 20:00:00\n",
            "13107300      17133  Monroe  Illinois  14.0 2019-07-16 20:15:00\n",
            "13108460      17133  Monroe  Illinois  14.0 2019-07-16 20:30:00\n",
            "13109627      17133  Monroe  Illinois  14.0 2019-07-16 20:45:00\n",
            "13110790      17133  Monroe  Illinois  14.0 2019-07-16 21:00:00\n",
            "13111937      17133  Monroe  Illinois  14.0 2019-07-16 21:15:00\n",
            "13113084      17133  Monroe  Illinois  14.0 2019-07-16 21:30:00\n",
            "13114206      17133  Monroe  Illinois  14.0 2019-07-16 21:45:00\n"
          ]
        }
      ]
    },
    {
      "cell_type": "code",
      "source": [
        "eagle2019 = eagle2019.drop(eagle2019['run_start_time'] == 20)\n"
      ],
      "metadata": {
        "id": "DI1HbF9S9cf8"
      },
      "execution_count": null,
      "outputs": []
    },
    {
      "cell_type": "code",
      "source": [
        "# Apply the function to each group\n",
        "aggregated2019 = eagle2019.groupby(['fips_code', 'county', 'state', 'sum']).apply(process_group).reset_index(drop=True)\n",
        "\n",
        "print(aggregated2019)"
      ],
      "metadata": {
        "colab": {
          "base_uri": "https://localhost:8080/"
        },
        "id": "IqZpTcVqwrja",
        "outputId": "5f3bdd40-4b3d-41b6-cd9b-260b3c0ae882"
      },
      "execution_count": 10,
      "outputs": [
        {
          "output_type": "stream",
          "name": "stderr",
          "text": [
            "<ipython-input-10-fdef103ac7bc>:2: FutureWarning: Not prepending group keys to the result index of transform-like apply. In the future, the group keys will be included in the index, regardless of whether the applied function returns a like-indexed object.\n",
            "To preserve the previous behavior, use\n",
            "\n",
            "\t>>> .groupby(..., group_keys=False)\n",
            "\n",
            "To adopt the future behavior and silence this warning, use \n",
            "\n",
            "\t>>> .groupby(..., group_keys=True)\n",
            "  aggregated2019 = eagle2019.groupby(['fips_code', 'county', 'state', 'sum']).apply(process_group).reset_index(drop=True)\n"
          ]
        },
        {
          "output_type": "stream",
          "name": "stdout",
          "text": [
            "          fips_code      county              state   sum          start_time  \\\n",
            "0              1001     Autauga            Alabama  10.0 2019-01-01 00:00:00   \n",
            "1              1001     Autauga            Alabama  10.0 2019-01-01 00:00:00   \n",
            "2              1001     Autauga            Alabama  10.0 2019-01-01 00:00:00   \n",
            "3              1001     Autauga            Alabama  10.0 2019-01-01 00:00:00   \n",
            "4              1001     Autauga            Alabama  10.0 2019-01-01 00:00:00   \n",
            "...             ...         ...                ...   ...                 ...   \n",
            "18399553      78030  St. Thomas  US Virgin Islands  85.0 2019-10-16 17:30:00   \n",
            "18399554      78030  St. Thomas  US Virgin Islands  85.0 2019-10-16 17:30:00   \n",
            "18399555      78030  St. Thomas  US Virgin Islands  85.0 2019-10-16 17:30:00   \n",
            "18399556      78030  St. Thomas  US Virgin Islands  85.0 2019-10-16 17:30:00   \n",
            "18399557      78030  St. Thomas  US Virgin Islands  85.0 2019-10-16 17:30:00   \n",
            "\n",
            "                    end_time  \n",
            "0        2019-01-01 01:00:00  \n",
            "1        2019-01-01 01:00:00  \n",
            "2        2019-01-01 01:00:00  \n",
            "3        2019-01-01 01:00:00  \n",
            "4        2019-01-01 01:00:00  \n",
            "...                      ...  \n",
            "18399553 2019-10-17 03:30:00  \n",
            "18399554 2019-10-17 03:30:00  \n",
            "18399555 2019-10-17 03:30:00  \n",
            "18399556 2019-10-17 03:30:00  \n",
            "18399557 2019-10-17 03:30:00  \n",
            "\n",
            "[18399558 rows x 6 columns]\n"
          ]
        }
      ]
    },
    {
      "cell_type": "code",
      "source": [
        "aggregated2019['duration'] = aggregated2019['end_time'] - aggregated2019['start_time'] + pd.Timedelta(minutes=15)\n",
        "aggregated2019['duration'] = aggregated2019['duration'].dt.total_seconds() / 60\n"
      ],
      "metadata": {
        "id": "rvDGJ94ewrrd"
      },
      "execution_count": 11,
      "outputs": []
    },
    {
      "cell_type": "code",
      "source": [
        "aggregated2019.to_csv('aggregated_eaglei_2019.csv')"
      ],
      "metadata": {
        "id": "U96yJaYnwyKR"
      },
      "execution_count": 12,
      "outputs": []
    }
  ]
}