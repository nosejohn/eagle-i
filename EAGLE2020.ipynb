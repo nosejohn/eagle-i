{
  "nbformat": 4,
  "nbformat_minor": 0,
  "metadata": {
    "colab": {
      "provenance": [],
      "machine_shape": "hm",
      "mount_file_id": "19UY-3HnDi0243lxPsbjvj59LYXlU7csH",
      "authorship_tag": "ABX9TyPw6bqVt1sBzDt9JQnasKSF",
      "include_colab_link": true
    },
    "kernelspec": {
      "name": "python3",
      "display_name": "Python 3"
    },
    "language_info": {
      "name": "python"
    },
    "widgets": {
      "application/vnd.jupyter.widget-state+json": {
        "5e23a80dafcc498ba0448004d2777796": {
          "model_module": "@jupyter-widgets/controls",
          "model_name": "HBoxModel",
          "model_module_version": "1.5.0",
          "state": {
            "_dom_classes": [],
            "_model_module": "@jupyter-widgets/controls",
            "_model_module_version": "1.5.0",
            "_model_name": "HBoxModel",
            "_view_count": null,
            "_view_module": "@jupyter-widgets/controls",
            "_view_module_version": "1.5.0",
            "_view_name": "HBoxView",
            "box_style": "",
            "children": [
              "IPY_MODEL_364ef23cc85a4ccab9bdd28183191b01",
              "IPY_MODEL_db7c3c0c509a4c43bc1567bc047d4931",
              "IPY_MODEL_4c14bf9fe88c4d93861b76a2404ae088"
            ],
            "layout": "IPY_MODEL_a09faefd42cd43f9a279581b07058b45"
          }
        },
        "364ef23cc85a4ccab9bdd28183191b01": {
          "model_module": "@jupyter-widgets/controls",
          "model_name": "HTMLModel",
          "model_module_version": "1.5.0",
          "state": {
            "_dom_classes": [],
            "_model_module": "@jupyter-widgets/controls",
            "_model_module_version": "1.5.0",
            "_model_name": "HTMLModel",
            "_view_count": null,
            "_view_module": "@jupyter-widgets/controls",
            "_view_module_version": "1.5.0",
            "_view_name": "HTMLView",
            "description": "",
            "description_tooltip": null,
            "layout": "IPY_MODEL_48623bc021494d1e9fa4cc19624ada2d",
            "placeholder": "​",
            "style": "IPY_MODEL_0651882517c04d578ecca653fb066442",
            "value": "100%"
          }
        },
        "db7c3c0c509a4c43bc1567bc047d4931": {
          "model_module": "@jupyter-widgets/controls",
          "model_name": "FloatProgressModel",
          "model_module_version": "1.5.0",
          "state": {
            "_dom_classes": [],
            "_model_module": "@jupyter-widgets/controls",
            "_model_module_version": "1.5.0",
            "_model_name": "FloatProgressModel",
            "_view_count": null,
            "_view_module": "@jupyter-widgets/controls",
            "_view_module_version": "1.5.0",
            "_view_name": "ProgressView",
            "bar_style": "success",
            "description": "",
            "description_tooltip": null,
            "layout": "IPY_MODEL_b4cecfb77fe44ad292267e8d7d017373",
            "max": 1117693,
            "min": 0,
            "orientation": "horizontal",
            "style": "IPY_MODEL_30f1586036c24cc8b31086f5d5c10949",
            "value": 1117693
          }
        },
        "4c14bf9fe88c4d93861b76a2404ae088": {
          "model_module": "@jupyter-widgets/controls",
          "model_name": "HTMLModel",
          "model_module_version": "1.5.0",
          "state": {
            "_dom_classes": [],
            "_model_module": "@jupyter-widgets/controls",
            "_model_module_version": "1.5.0",
            "_model_name": "HTMLModel",
            "_view_count": null,
            "_view_module": "@jupyter-widgets/controls",
            "_view_module_version": "1.5.0",
            "_view_name": "HTMLView",
            "description": "",
            "description_tooltip": null,
            "layout": "IPY_MODEL_82d2906cb4af45b49513c3503e54ec8e",
            "placeholder": "​",
            "style": "IPY_MODEL_7d4b0ea1ba3d44a3ba59d3748337fc7a",
            "value": " 1117693/1117693 [2:13:34&lt;00:00, 149.84it/s]"
          }
        },
        "a09faefd42cd43f9a279581b07058b45": {
          "model_module": "@jupyter-widgets/base",
          "model_name": "LayoutModel",
          "model_module_version": "1.2.0",
          "state": {
            "_model_module": "@jupyter-widgets/base",
            "_model_module_version": "1.2.0",
            "_model_name": "LayoutModel",
            "_view_count": null,
            "_view_module": "@jupyter-widgets/base",
            "_view_module_version": "1.2.0",
            "_view_name": "LayoutView",
            "align_content": null,
            "align_items": null,
            "align_self": null,
            "border": null,
            "bottom": null,
            "display": null,
            "flex": null,
            "flex_flow": null,
            "grid_area": null,
            "grid_auto_columns": null,
            "grid_auto_flow": null,
            "grid_auto_rows": null,
            "grid_column": null,
            "grid_gap": null,
            "grid_row": null,
            "grid_template_areas": null,
            "grid_template_columns": null,
            "grid_template_rows": null,
            "height": null,
            "justify_content": null,
            "justify_items": null,
            "left": null,
            "margin": null,
            "max_height": null,
            "max_width": null,
            "min_height": null,
            "min_width": null,
            "object_fit": null,
            "object_position": null,
            "order": null,
            "overflow": null,
            "overflow_x": null,
            "overflow_y": null,
            "padding": null,
            "right": null,
            "top": null,
            "visibility": null,
            "width": null
          }
        },
        "48623bc021494d1e9fa4cc19624ada2d": {
          "model_module": "@jupyter-widgets/base",
          "model_name": "LayoutModel",
          "model_module_version": "1.2.0",
          "state": {
            "_model_module": "@jupyter-widgets/base",
            "_model_module_version": "1.2.0",
            "_model_name": "LayoutModel",
            "_view_count": null,
            "_view_module": "@jupyter-widgets/base",
            "_view_module_version": "1.2.0",
            "_view_name": "LayoutView",
            "align_content": null,
            "align_items": null,
            "align_self": null,
            "border": null,
            "bottom": null,
            "display": null,
            "flex": null,
            "flex_flow": null,
            "grid_area": null,
            "grid_auto_columns": null,
            "grid_auto_flow": null,
            "grid_auto_rows": null,
            "grid_column": null,
            "grid_gap": null,
            "grid_row": null,
            "grid_template_areas": null,
            "grid_template_columns": null,
            "grid_template_rows": null,
            "height": null,
            "justify_content": null,
            "justify_items": null,
            "left": null,
            "margin": null,
            "max_height": null,
            "max_width": null,
            "min_height": null,
            "min_width": null,
            "object_fit": null,
            "object_position": null,
            "order": null,
            "overflow": null,
            "overflow_x": null,
            "overflow_y": null,
            "padding": null,
            "right": null,
            "top": null,
            "visibility": null,
            "width": null
          }
        },
        "0651882517c04d578ecca653fb066442": {
          "model_module": "@jupyter-widgets/controls",
          "model_name": "DescriptionStyleModel",
          "model_module_version": "1.5.0",
          "state": {
            "_model_module": "@jupyter-widgets/controls",
            "_model_module_version": "1.5.0",
            "_model_name": "DescriptionStyleModel",
            "_view_count": null,
            "_view_module": "@jupyter-widgets/base",
            "_view_module_version": "1.2.0",
            "_view_name": "StyleView",
            "description_width": ""
          }
        },
        "b4cecfb77fe44ad292267e8d7d017373": {
          "model_module": "@jupyter-widgets/base",
          "model_name": "LayoutModel",
          "model_module_version": "1.2.0",
          "state": {
            "_model_module": "@jupyter-widgets/base",
            "_model_module_version": "1.2.0",
            "_model_name": "LayoutModel",
            "_view_count": null,
            "_view_module": "@jupyter-widgets/base",
            "_view_module_version": "1.2.0",
            "_view_name": "LayoutView",
            "align_content": null,
            "align_items": null,
            "align_self": null,
            "border": null,
            "bottom": null,
            "display": null,
            "flex": null,
            "flex_flow": null,
            "grid_area": null,
            "grid_auto_columns": null,
            "grid_auto_flow": null,
            "grid_auto_rows": null,
            "grid_column": null,
            "grid_gap": null,
            "grid_row": null,
            "grid_template_areas": null,
            "grid_template_columns": null,
            "grid_template_rows": null,
            "height": null,
            "justify_content": null,
            "justify_items": null,
            "left": null,
            "margin": null,
            "max_height": null,
            "max_width": null,
            "min_height": null,
            "min_width": null,
            "object_fit": null,
            "object_position": null,
            "order": null,
            "overflow": null,
            "overflow_x": null,
            "overflow_y": null,
            "padding": null,
            "right": null,
            "top": null,
            "visibility": null,
            "width": null
          }
        },
        "30f1586036c24cc8b31086f5d5c10949": {
          "model_module": "@jupyter-widgets/controls",
          "model_name": "ProgressStyleModel",
          "model_module_version": "1.5.0",
          "state": {
            "_model_module": "@jupyter-widgets/controls",
            "_model_module_version": "1.5.0",
            "_model_name": "ProgressStyleModel",
            "_view_count": null,
            "_view_module": "@jupyter-widgets/base",
            "_view_module_version": "1.2.0",
            "_view_name": "StyleView",
            "bar_color": null,
            "description_width": ""
          }
        },
        "82d2906cb4af45b49513c3503e54ec8e": {
          "model_module": "@jupyter-widgets/base",
          "model_name": "LayoutModel",
          "model_module_version": "1.2.0",
          "state": {
            "_model_module": "@jupyter-widgets/base",
            "_model_module_version": "1.2.0",
            "_model_name": "LayoutModel",
            "_view_count": null,
            "_view_module": "@jupyter-widgets/base",
            "_view_module_version": "1.2.0",
            "_view_name": "LayoutView",
            "align_content": null,
            "align_items": null,
            "align_self": null,
            "border": null,
            "bottom": null,
            "display": null,
            "flex": null,
            "flex_flow": null,
            "grid_area": null,
            "grid_auto_columns": null,
            "grid_auto_flow": null,
            "grid_auto_rows": null,
            "grid_column": null,
            "grid_gap": null,
            "grid_row": null,
            "grid_template_areas": null,
            "grid_template_columns": null,
            "grid_template_rows": null,
            "height": null,
            "justify_content": null,
            "justify_items": null,
            "left": null,
            "margin": null,
            "max_height": null,
            "max_width": null,
            "min_height": null,
            "min_width": null,
            "object_fit": null,
            "object_position": null,
            "order": null,
            "overflow": null,
            "overflow_x": null,
            "overflow_y": null,
            "padding": null,
            "right": null,
            "top": null,
            "visibility": null,
            "width": null
          }
        },
        "7d4b0ea1ba3d44a3ba59d3748337fc7a": {
          "model_module": "@jupyter-widgets/controls",
          "model_name": "DescriptionStyleModel",
          "model_module_version": "1.5.0",
          "state": {
            "_model_module": "@jupyter-widgets/controls",
            "_model_module_version": "1.5.0",
            "_model_name": "DescriptionStyleModel",
            "_view_count": null,
            "_view_module": "@jupyter-widgets/base",
            "_view_module_version": "1.2.0",
            "_view_name": "StyleView",
            "description_width": ""
          }
        }
      }
    }
  },
  "cells": [
    {
      "cell_type": "markdown",
      "metadata": {
        "id": "view-in-github",
        "colab_type": "text"
      },
      "source": [
        "<a href=\"https://colab.research.google.com/github/nosejohn/eagle-i/blob/main/EAGLE2020.ipynb\" target=\"_parent\"><img src=\"https://colab.research.google.com/assets/colab-badge.svg\" alt=\"Open In Colab\"/></a>"
      ]
    },
    {
      "cell_type": "code",
      "execution_count": null,
      "metadata": {
        "id": "s-x9WLQFhdU2"
      },
      "outputs": [],
      "source": [
        "# importing necessary datasets\n",
        "import pandas as pd\n",
        "eagle2020 = pd.read_csv('/content/drive/MyDrive/eaglei/eaglei_outages_2020.csv', index_col = False)\n",
        "\n",
        "# Convert run_start_time to datetime\n",
        "eagle2020['run_start_time'] = pd.to_datetime(eagle2020['run_start_time'])\n",
        "\n",
        "# Sort the data\n",
        "eagle2020.sort_values(by=['fips_code', 'run_start_time'], inplace=True)\n",
        "eagle2020.head()\n",
        "\n",
        "def process_group(group):\n",
        "    # Ensure 'run_start_time' is in datetime format\n",
        "    group['run_start_time'] = pd.to_datetime(group['run_start_time'])\n",
        "\n",
        "    # Calculate time differences between consecutive rows in minutes\n",
        "    group['time_diff'] = group['run_start_time'].diff().dt.total_seconds() / 60.0\n",
        "\n",
        "    # Mark rows as new outage based on time difference and sum change\n",
        "    group['new_outage'] = (group['time_diff'] > 16) | (group['sum'] != group['sum'].shift()) | group['time_diff'].isnull()\n",
        "    group['outage_id'] = group['fips_code'].astype(str) + '_' + group['new_outage'].cumsum().astype(str)\n",
        "\n",
        "    # Determine start and end times for each outage\n",
        "    group['start_time'] = group.groupby('outage_id')['run_start_time'].transform('first')\n",
        "    group['end_time'] = group.groupby('outage_id')['run_start_time'].transform('last')\n",
        "\n",
        "    return group[['fips_code', 'county', 'state', 'sum', 'start_time', 'end_time']]\n"
      ]
    },
    {
      "cell_type": "code",
      "source": [
        "len(eagle2020)"
      ],
      "metadata": {
        "colab": {
          "base_uri": "https://localhost:8080/"
        },
        "id": "YTI3HmYSkNno",
        "outputId": "dbcab078-0254-487b-8474-9995102fb6d6"
      },
      "execution_count": null,
      "outputs": [
        {
          "output_type": "execute_result",
          "data": {
            "text/plain": [
              "25545517"
            ]
          },
          "metadata": {},
          "execution_count": 2
        }
      ]
    },
    {
      "cell_type": "code",
      "source": [
        "# Apply the function to each group\n",
        "from tqdm.auto import tqdm\n",
        "tqdm.pandas()\n",
        "\n",
        "aggregated2020 = eagle2020.groupby(['fips_code', 'county', 'state', 'sum']).progress_apply(process_group).reset_index(drop=True)\n",
        "\n",
        "print(aggregated2020)"
      ],
      "metadata": {
        "colab": {
          "base_uri": "https://localhost:8080/",
          "height": 694,
          "referenced_widgets": [
            "5e23a80dafcc498ba0448004d2777796",
            "364ef23cc85a4ccab9bdd28183191b01",
            "db7c3c0c509a4c43bc1567bc047d4931",
            "4c14bf9fe88c4d93861b76a2404ae088",
            "a09faefd42cd43f9a279581b07058b45",
            "48623bc021494d1e9fa4cc19624ada2d",
            "0651882517c04d578ecca653fb066442",
            "b4cecfb77fe44ad292267e8d7d017373",
            "30f1586036c24cc8b31086f5d5c10949",
            "82d2906cb4af45b49513c3503e54ec8e",
            "7d4b0ea1ba3d44a3ba59d3748337fc7a"
          ]
        },
        "id": "mgcQL98Pv4Do",
        "outputId": "0c38c22a-a6c9-4540-a119-818223d44e87"
      },
      "execution_count": null,
      "outputs": [
        {
          "output_type": "display_data",
          "data": {
            "text/plain": [
              "  0%|          | 0/1117693 [00:00<?, ?it/s]"
            ],
            "application/vnd.jupyter.widget-view+json": {
              "version_major": 2,
              "version_minor": 0,
              "model_id": "5e23a80dafcc498ba0448004d2777796"
            }
          },
          "metadata": {}
        },
        {
          "output_type": "stream",
          "name": "stderr",
          "text": [
            "/usr/local/lib/python3.10/dist-packages/tqdm/std.py:920: FutureWarning: Not prepending group keys to the result index of transform-like apply. In the future, the group keys will be included in the index, regardless of whether the applied function returns a like-indexed object.\n",
            "To preserve the previous behavior, use\n",
            "\n",
            "\t>>> .groupby(..., group_keys=False)\n",
            "\n",
            "To adopt the future behavior and silence this warning, use \n",
            "\n",
            "\t>>> .groupby(..., group_keys=True)\n",
            "  return getattr(df, df_function)(wrapper, **kwargs)\n"
          ]
        },
        {
          "output_type": "stream",
          "name": "stdout",
          "text": [
            "          fips_code      county              state     sum  \\\n",
            "0              1001     Autauga            Alabama     4.0   \n",
            "1              1001     Autauga            Alabama     2.0   \n",
            "2              1001     Autauga            Alabama     2.0   \n",
            "3              1001     Autauga            Alabama     2.0   \n",
            "4              1001     Autauga            Alabama     4.0   \n",
            "...             ...         ...                ...     ...   \n",
            "23443992      78030  St. Thomas  US Virgin Islands  1213.0   \n",
            "23443993      78030  St. Thomas  US Virgin Islands  1213.0   \n",
            "23443994      78030  St. Thomas  US Virgin Islands  1213.0   \n",
            "23443995      78030  St. Thomas  US Virgin Islands  1213.0   \n",
            "23443996      78030  St. Thomas  US Virgin Islands  1213.0   \n",
            "\n",
            "                  start_time            end_time  \n",
            "0        2020-01-02 15:45:00 2020-01-02 15:45:00  \n",
            "1        2020-01-02 16:30:00 2020-01-02 17:00:00  \n",
            "2        2020-01-02 16:30:00 2020-01-02 17:00:00  \n",
            "3        2020-01-02 16:30:00 2020-01-02 17:00:00  \n",
            "4        2020-01-02 17:15:00 2020-01-02 18:30:00  \n",
            "...                      ...                 ...  \n",
            "23443992 2020-12-30 22:45:00 2020-12-31 00:00:00  \n",
            "23443993 2020-12-30 22:45:00 2020-12-31 00:00:00  \n",
            "23443994 2020-12-30 22:45:00 2020-12-31 00:00:00  \n",
            "23443995 2020-12-30 22:45:00 2020-12-31 00:00:00  \n",
            "23443996 2020-12-30 22:45:00 2020-12-31 00:00:00  \n",
            "\n",
            "[23443997 rows x 6 columns]\n"
          ]
        }
      ]
    },
    {
      "cell_type": "code",
      "source": [
        "aggregated2020['duration'] = aggregated2020['end_time'] - aggregated2020['start_time'] + pd.Timedelta(minutes=15)\n",
        "aggregated2020['duration'] = aggregated2020['duration'].dt.total_seconds() / 60\n"
      ],
      "metadata": {
        "id": "V1PtDjKUv--s"
      },
      "execution_count": null,
      "outputs": []
    },
    {
      "cell_type": "code",
      "source": [
        "df_unique = aggregated2020.drop_duplicates(subset=['county', 'state', 'sum', 'start_time', 'end_time'])\n",
        "grouped = df_unique.groupby(['fips_code', 'state', 'county']).agg({'sum': 'sum', 'duration': 'sum'}).reset_index()\n"
      ],
      "metadata": {
        "id": "naeYwKbTh8ni"
      },
      "execution_count": null,
      "outputs": []
    },
    {
      "cell_type": "code",
      "source": [
        "grouped.to_csv('aggregated_eaglei_2020.csv')"
      ],
      "metadata": {
        "id": "QAnSK1hMwCr1"
      },
      "execution_count": null,
      "outputs": []
    }
  ]
}